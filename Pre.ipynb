{
 "cells": [
  {
   "cell_type": "markdown",
   "metadata": {},
   "source": [
    "基于单链表，编写一个通讯录管理程序，实现以下功能：  \n",
    "1.每个联系人的信息包含姓名、电话；  \n",
    "2.可以插入新的联系人信息  \n",
    "3.可以根据姓名删除联系人信息；  \n",
    "4.可以显示通讯录中联系人信息。  \n"
   ]
  },
  {
   "cell_type": "code",
   "execution_count": 80,
   "metadata": {},
   "outputs": [],
   "source": [
    "import jdc\n",
    "class Person:\n",
    "    def __init__(self,name=None,number=None):\n",
    "        self.name=name\n",
    "        self.number=number\n",
    "        self.next=None"
   ]
  },
  {
   "cell_type": "markdown",
   "metadata": {},
   "source": [
    "首先定义一个节点类，用于存储联系人信息，包括姓名和电话。"
   ]
  },
  {
   "cell_type": "code",
   "execution_count": 81,
   "metadata": {},
   "outputs": [],
   "source": [
    "class Addressbook:\n",
    "    def __init__(self):\n",
    "        self.head=Person()\n",
    "    def display(self):\n",
    "        cur=self.head.next\n",
    "        while cur:\n",
    "            print(cur.name,cur.number)\n",
    "            cur=cur.next"
   ]
  },
  {
   "cell_type": "markdown",
   "metadata": {},
   "source": [
    "然后定义一个通讯录类，带头结点，用于实现通讯录的增删改查功能。"
   ]
  },
  {
   "cell_type": "code",
   "execution_count": 82,
   "metadata": {},
   "outputs": [],
   "source": [
    "%%add_to Addressbook\n",
    "def add(self,name,phone):\n",
    "    person=Person(name,phone)\n",
    "    person.next=self.head.next\n",
    "    self.head.next=person\n",
    "def insert(self,index,name,phone):\n",
    "    cur=self.head.next\n",
    "    for i in range(index-1):\n",
    "        cur=cur.next\n",
    "        if cur is None:\n",
    "            print('out of index')\n",
    "            return\n",
    "    person=Person(name,phone)\n",
    "    person.next=cur.next\n",
    "    cur.next=person\n",
    "    "
   ]
  },
  {
   "cell_type": "markdown",
   "metadata": {},
   "source": [
    "1. `add(self, name, phone)`方法：这个方法创建一个新的`Person`对象，然后将其添加到地址簿的开头。`Person`对象由`name`和`phone`参数初始化，然后它的`next`属性被设置为当前头节点的下一个节点。然后，头节点的`next`属性被设置为新创建的`Person`对象，这样新的`Person`就被添加到了地址簿的开头。\n",
    "\n",
    "2. `insert(self, index, name, phone)`方法：这个方法在指定的索引位置插入一个新的`Person`对象。首先，它获取头节点的下一个节点，然后遍历链表，直到到达指定的索引位置。如果索引超出链表的长度，它将打印一条错误消息并返回。否则，它将创建一个新的`Person`对象，并将其插入到当前节点和下一个节点之间。"
   ]
  },
  {
   "cell_type": "code",
   "execution_count": 83,
   "metadata": {},
   "outputs": [
    {
     "name": "stdout",
     "output_type": "stream",
     "text": [
      "David 222222\n",
      "Cathy 333333\n",
      "Bob 654321\n",
      "Alice 123456\n",
      "\n",
      "David 222222\n",
      "Cathy 333333\n",
      "Eva 111111\n",
      "Bob 654321\n",
      "Alice 123456\n"
     ]
    }
   ],
   "source": [
    "addressbook=Addressbook()\n",
    "addressbook.add('Alice','123456')\n",
    "addressbook.add('Bob','654321')\n",
    "addressbook.add('Cathy','333333')\n",
    "addressbook.add('David','222222')\n",
    "addressbook.display()\n",
    "print()\n",
    "addressbook.insert(2,'Eva','111111')\n",
    "addressbook.display()\n"
   ]
  },
  {
   "cell_type": "code",
   "execution_count": 84,
   "metadata": {},
   "outputs": [],
   "source": [
    "%%add_to Addressbook\n",
    "def delete(self,name):\n",
    "    cur=self.head.next\n",
    "    pre=self.head\n",
    "    while cur:\n",
    "        if cur.name==name:\n",
    "            pre.next=cur.next\n",
    "            break\n",
    "        else:\n",
    "            pre = cur\n",
    "            cur=cur.next\n",
    "    if cur is None:\n",
    "        print('no such person')"
   ]
  },
  {
   "cell_type": "markdown",
   "metadata": {},
   "source": [
    "1. 首先，它获取头节点的下一个节点（`cur`）和头节点本身（`pre`）。\n",
    "\n",
    "2. 然后，它进入一个循环，该循环会持续进行，直到`cur`变为`None`（也就是说，直到链表的末尾）。\n",
    "\n",
    "3. 在循环中，它检查`cur`节点的`name`属性是否等于要删除的名称。如果是，那么它就将`pre`节点的`next`属性设置为`cur`节点的下一个节点，从而跳过`cur`节点并删除它。然后，它会跳出循环。\n",
    "\n",
    "4. 如果`cur`节点的`name`属性不等于要删除的名称，那么它就将`pre`设置为`cur`，并将`cur`设置为下一个节点。这样，它就可以继续检查链表的下一个节点。\n",
    "\n",
    "5. 如果循环结束时`cur`是`None`，那么它就会打印一条消息，表示没有找到该联系人。\n",
    "\n",
    "\n"
   ]
  },
  {
   "cell_type": "code",
   "execution_count": 85,
   "metadata": {},
   "outputs": [
    {
     "name": "stdout",
     "output_type": "stream",
     "text": [
      "David 222222\n",
      "Cathy 333333\n",
      "Eva 111111\n",
      "Bob 654321\n",
      "Alice 123456\n",
      "\n",
      "David 222222\n",
      "Eva 111111\n",
      "Bob 654321\n",
      "Alice 123456\n"
     ]
    }
   ],
   "source": [
    "addressbook.display()\n",
    "print()\n",
    "addressbook.delete('Cathy')\n",
    "addressbook.display()"
   ]
  },
  {
   "cell_type": "code",
   "execution_count": 86,
   "metadata": {},
   "outputs": [],
   "source": [
    "%%add_to Addressbook\n",
    "def search(self,name):\n",
    "    cur=self.head.next\n",
    "    while cur:\n",
    "        if cur.name==name:\n",
    "            print(cur.number)\n",
    "            break\n",
    "        else:\n",
    "            cur=cur.next\n",
    "    if cur is None:\n",
    "        print('no such person')"
   ]
  },
  {
   "cell_type": "markdown",
   "metadata": {},
   "source": [
    "\n",
    "1. 首先，它获取头节点的下一个节点（`cur`）。\n",
    "\n",
    "2. 然后，它进入一个循环，该循环会持续进行，直到`cur`变为`None`（也就是说，直到链表的末尾）。\n",
    "\n",
    "3. 在循环中，它检查`cur`节点的`name`属性是否等于要搜索的名称。如果是，那么它就返回`cur`节点的`number`属性，并跳出循环。\n",
    "\n",
    "4. 如果`cur`节点的`name`属性不等于要搜索的名称，那么它就将`cur`设置为下一个节点。这样，它就可以继续检查链表的下一个节点。\n",
    "\n",
    "5. 如果循环结束时`cur`是`None`，那么它就返回'Not found'。\n",
    "\n"
   ]
  },
  {
   "cell_type": "code",
   "execution_count": 87,
   "metadata": {},
   "outputs": [
    {
     "name": "stdout",
     "output_type": "stream",
     "text": [
      "David 222222\n",
      "Eva 111111\n",
      "Bob 654321\n",
      "Alice 123456\n",
      "\n",
      "123456\n",
      "no such person\n"
     ]
    }
   ],
   "source": [
    "addressbook.display()\n",
    "print()\n",
    "addressbook.search('Alice')\n",
    "addressbook.search('Cathy')"
   ]
  }
 ],
 "metadata": {
  "kernelspec": {
   "display_name": "py3.7",
   "language": "python",
   "name": "python3"
  },
  "language_info": {
   "codemirror_mode": {
    "name": "ipython",
    "version": 3
   },
   "file_extension": ".py",
   "mimetype": "text/x-python",
   "name": "python",
   "nbconvert_exporter": "python",
   "pygments_lexer": "ipython3",
   "version": "3.8.18"
  }
 },
 "nbformat": 4,
 "nbformat_minor": 2
}
