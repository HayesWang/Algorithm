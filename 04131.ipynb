{
 "cells": [
  {
   "cell_type": "markdown",
   "metadata": {},
   "source": [
    "# 栈及栈的应用"
   ]
  },
  {
   "cell_type": "markdown",
   "metadata": {},
   "source": [
    "## 表达式求值"
   ]
  },
  {
   "cell_type": "markdown",
   "metadata": {},
   "source": [
    "前缀和后缀表达式是一种改变数学表达式中运算符位置的方式。它们的存在有以下几个原因：\n",
    "\n",
    "1. 简化计算：前缀和后缀表达式可以消除括号的使用，使得表达式更加简洁和易于计算。运算符紧跟着操作数，不需要考虑运算符的优先级和结合性，减少了计算的复杂性。\n",
    "\n",
    "2. 方便计算机处理：前缀和后缀表达式更符合计算机的运算方式。计算机在执行运算时，更容易处理后缀表达式，因为它可以使用栈来存储操作数和运算符，并按照顺序进行计算。\n",
    "\n",
    "3. 减少歧义：前缀和后缀表达式消除了运算符的歧义。在传统的中缀表达式中，运算符的位置可能导致不同的解释和计算结果。而前缀和后缀表达式通过明确指定运算符的位置，消除了歧义。\n",
    "\n",
    "总的来说，前缀和后缀表达式提供了一种更简洁、更易于计算和更符合计算机处理方式的数学表达方式。它们在编程语言、计算机科学和计算器等领域中得到广泛应用。"
   ]
  },
  {
   "cell_type": "markdown",
   "metadata": {},
   "source": [
    "后缀表达式求值的过程中，我们通常使用一个栈来存储操作数。当遇到一个操作符时，我们从栈中弹出相应数量的操作数，执行操作，然后将结果压回栈中。这个过程一直持续到表达式结束，最后栈顶的元素就是表达式的结果。\n",
    "\n",
    "例如，对于后缀表达式 \"456*+\"，我们可以按照以下步骤进行求值：\n",
    "\n",
    "1. 读取到4，将其压入栈中。\n",
    "2. 读取到5，将其压入栈中。\n",
    "3. 读取到6，将其压入栈中。\n",
    "4. 读取到*，从栈中弹出两个元素（6和5），执行乘法操作，得到30，然后将30压回栈中。\n",
    "5. 读取到+，从栈中弹出两个元素（30和4），执行加法操作，得到34，然后将34压回栈中。\n",
    "6. 表达式结束，栈顶元素34就是表达式的结果。\n",
    "\n",
    "以下是对应的Python代码：\n",
    "\n"
   ]
  },
  {
   "cell_type": "code",
   "execution_count": 1,
   "metadata": {},
   "outputs": [
    {
     "name": "stdout",
     "output_type": "stream",
     "text": [
      "34\n"
     ]
    }
   ],
   "source": [
    "def evaluate_postfix(expression):\n",
    "    stack = []\n",
    "    for char in expression:\n",
    "        if char.isdigit():\n",
    "            stack.append(int(char))\n",
    "        else:\n",
    "            right = stack.pop()\n",
    "            left = stack.pop()\n",
    "            if char == '+':\n",
    "                stack.append(left + right)\n",
    "            elif char == '*':\n",
    "                stack.append(left * right)\n",
    "    return stack[0]\n",
    "\n",
    "print(evaluate_postfix('456*+'))  # 输出：34"
   ]
  },
  {
   "cell_type": "markdown",
   "metadata": {},
   "source": [
    "对于减法和除法，我们需要注意的是操作数的顺序。在后缀表达式中，当我们遇到一个减法或除法操作符时，我们需要从栈中弹出两个元素，但是第二个弹出的元素是被减数或被除数，第一个弹出的元素是减数或除数。\n",
    "\n",
    "例如，对于后缀表达式 \"65-\" 和 \"65/\"，我们可以按照以下步骤进行求值：\n",
    "\n",
    "对于 \"65-\"：\n",
    "\n",
    "1. 读取到6，将其压入栈中。\n",
    "2. 读取到5，将其压入栈中。\n",
    "3. 读取到-，从栈中弹出两个元素（5和6），执行减法操作，得到1（因为6-5=1），然后将1压回栈中。\n",
    "4. 表达式结束，栈顶元素1就是表达式的结果。\n",
    "\n",
    "对于 \"65/\"：\n",
    "\n",
    "1. 读取到6，将其压入栈中。\n",
    "2. 读取到5，将其压入栈中。\n",
    "3. 读取到/，从栈中弹出两个元素（5和6），执行除法操作，得到1.2（因为6/5=1.2），然后将1.2压回栈中。\n",
    "4. 表达式结束，栈顶元素1.2就是表达式的结果。\n",
    "\n",
    "以下是对应的Python代码：\n",
    "\n"
   ]
  },
  {
   "cell_type": "code",
   "execution_count": null,
   "metadata": {},
   "outputs": [],
   "source": [
    "def evaluate_postfix(expression):\n",
    "    stack = []\n",
    "    for char in expression:\n",
    "        if char.isdigit():\n",
    "            stack.append(int(char))\n",
    "        else:\n",
    "            right = stack.pop()\n",
    "            left = stack.pop()\n",
    "            if char == '+':\n",
    "                stack.append(left + right)\n",
    "            elif char == '-':\n",
    "                stack.append(left - right)\n",
    "            elif char == '*':\n",
    "                stack.append(left * right)\n",
    "            elif char == '/':\n",
    "                stack.append(left / right)\n",
    "    return stack[0]\n",
    "\n",
    "print(evaluate_postfix('65-'))  # 输出：1\n",
    "print(evaluate_postfix('65/'))  # 输出：1.2"
   ]
  },
  {
   "cell_type": "markdown",
   "metadata": {},
   "source": []
  }
 ],
 "metadata": {
  "kernelspec": {
   "display_name": "py3.7",
   "language": "python",
   "name": "python3"
  },
  "language_info": {
   "codemirror_mode": {
    "name": "ipython",
    "version": 3
   },
   "file_extension": ".py",
   "mimetype": "text/x-python",
   "name": "python",
   "nbconvert_exporter": "python",
   "pygments_lexer": "ipython3",
   "version": "3.8.18"
  }
 },
 "nbformat": 4,
 "nbformat_minor": 2
}
