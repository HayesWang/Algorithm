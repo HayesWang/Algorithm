{
 "cells": [
  {
   "cell_type": "markdown",
   "metadata": {},
   "source": [
    "# 线性结构"
   ]
  },
  {
   "cell_type": "markdown",
   "metadata": {},
   "source": [
    "## 线性表及其实现"
   ]
  },
  {
   "cell_type": "markdown",
   "metadata": {},
   "source": [
    "线性表（Linear List）是一种基本的数据结构，它有以下基本特点：\n",
    "\n",
    "1. 元素之间的顺序是由元素的添加顺序决定的。\n",
    "2. 每个元素有且只有一个前驱和后继（除了首元素没有前驱，尾元素没有后继）。\n",
    "\n",
    "线性表的定义：线性表是n（n≥0）个数据元素的有限序列。在非空线性表中，第一个元素无前驱，最后一个元素无后继，其他每个元素有且只有一个前驱和一个后继。数据元素之间的关系是一对一的关系。\n",
    "\n",
    "线性表有两种存储方式：顺序存储和链式存储。顺序存储是将元素存储在连续的内存空间中，链式存储是通过指针将元素连接起来。\n",
    "\n",
    "线性表在实际编程中的应用非常广泛，例如数组、列表、队列、栈等都是线性表的具体实现。"
   ]
  },
  {
   "cell_type": "code",
   "execution_count": 1,
   "metadata": {},
   "outputs": [],
   "source": [
    "class Seqlist:\n",
    "    def __init__(self):\n",
    "        self.item = []\n",
    "    def is_empty(self):\n",
    "        return self.item == []\n",
    "    def size(self):\n",
    "        return len(self.item)\n",
    "    def append(self, item):\n",
    "        self.item.append(item)\n",
    "    def insert(self, index, item):\n",
    "        if index<0 or index>len(self.item):\n",
    "            raise IndexError('index out of range')\n",
    "        self.item.insert(index, item)\n",
    "    def delete(self, index):\n",
    "        self.item.pop(index)\n",
    "    def update(self, index, item):\n",
    "        self.item[index] = item\n",
    "    def display(self):\n",
    "        print(self.item)\n"
   ]
  },
  {
   "cell_type": "code",
   "execution_count": 3,
   "metadata": {},
   "outputs": [
    {
     "name": "stdout",
     "output_type": "stream",
     "text": [
      "True\n",
      "5\n",
      "[1, 2, 3, 4, 5, 6]\n",
      "[1, 2, 7, 3, 4, 5, 6]\n",
      "[1, 2, 7, 4, 5, 6]\n",
      "[1, 2, 7, 4, 8, 6]\n"
     ]
    }
   ],
   "source": [
    "Seqlst=Seqlist()\n",
    "print(Seqlst.is_empty())\n",
    "Seqlst.item=[1,2,3,4,5]\n",
    "print(Seqlst.size())\n",
    "Seqlst.append(6)\n",
    "Seqlst.display()\n",
    "Seqlst.insert(2,7)\n",
    "Seqlst.display()\n",
    "Seqlst.delete(3)\n",
    "Seqlst.display()\n",
    "Seqlst.update(4,8)\n",
    "Seqlst.display()"
   ]
  },
  {
   "cell_type": "markdown",
   "metadata": {},
   "source": [
    "# 栈及栈的应用"
   ]
  },
  {
   "cell_type": "markdown",
   "metadata": {},
   "source": [
    "栈（Stack）是一种特殊的线性表，其特点如下：\n",
    "\n",
    "1. **后进先出（LIFO）**：栈是一种后进先出的数据结构，最后一个进入的元素将会第一个出去。\n",
    "\n",
    "2. **只能在一端进行操作**：栈只允许在其一端（通常称为“顶”）进行添加或删除元素的操作。\n",
    "\n",
    "3. **操作简单**：栈的主要操作通常包括“压栈”（添加元素）和“弹栈”（删除元素）。\n",
    "\n",
    "栈在计算机科学中有很多应用，例如在函数调用、表达式求值、算法（如深度优先搜索）中都有使用。"
   ]
  },
  {
   "cell_type": "code",
   "execution_count": null,
   "metadata": {},
   "outputs": [],
   "source": [
    "class stack:\n",
    "   def __init__(self):\n",
    "      self.item = []\n",
    "   def push(self, item):\n",
    "      self.item.append(item)\n",
    "   def pop(self):\n",
    "      return self.item.pop()\n",
    "   def peek(self):\n",
    "      return self.item[-1]\n",
    "   def is_empty(self):\n",
    "      return self.item == []\n",
    "   def size(self):\n",
    "      return len(self.item)\n",
    "   def display(self):\n",
    "      print(self.item)"
   ]
  }
 ],
 "metadata": {
  "kernelspec": {
   "display_name": "py3.9",
   "language": "python",
   "name": "python3"
  },
  "language_info": {
   "codemirror_mode": {
    "name": "ipython",
    "version": 3
   },
   "file_extension": ".py",
   "mimetype": "text/x-python",
   "name": "python",
   "nbconvert_exporter": "python",
   "pygments_lexer": "ipython3",
   "version": "3.8.18"
  }
 },
 "nbformat": 4,
 "nbformat_minor": 2
}
