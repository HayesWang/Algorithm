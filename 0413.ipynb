{
 "cells": [
  {
   "cell_type": "markdown",
   "metadata": {},
   "source": [
    "# 栈及栈的应用"
   ]
  },
  {
   "cell_type": "markdown",
   "metadata": {},
   "source": [
    "## 表达式求值"
   ]
  },
  {
   "cell_type": "markdown",
   "metadata": {},
   "source": [
    "前缀和后缀表达式是一种改变数学表达式中运算符位置的方式。它们的存在有以下几个原因：\n",
    "\n",
    "1. 简化计算：前缀和后缀表达式可以消除括号的使用，使得表达式更加简洁和易于计算。运算符紧跟着操作数，不需要考虑运算符的优先级和结合性，减少了计算的复杂性。\n",
    "\n",
    "2. 方便计算机处理：前缀和后缀表达式更符合计算机的运算方式。计算机在执行运算时，更容易处理后缀表达式，因为它可以使用栈来存储操作数和运算符，并按照顺序进行计算。\n",
    "\n",
    "3. 减少歧义：前缀和后缀表达式消除了运算符的歧义。在传统的中缀表达式中，运算符的位置可能导致不同的解释和计算结果。而前缀和后缀表达式通过明确指定运算符的位置，消除了歧义。\n",
    "\n",
    "总的来说，前缀和后缀表达式提供了一种更简洁、更易于计算和更符合计算机处理方式的数学表达方式。它们在编程语言、计算机科学和计算器等领域中得到广泛应用。"
   ]
  },
  {
   "cell_type": "markdown",
   "metadata": {},
   "source": [
    "后缀表达式求值的过程中，我们通常使用一个栈来存储操作数。当遇到一个操作符时，我们从栈中弹出相应数量的操作数，执行操作，然后将结果压回栈中。这个过程一直持续到表达式结束，最后栈顶的元素就是表达式的结果。\n",
    "\n",
    "例如，对于后缀表达式 \"456*+\"，我们可以按照以下步骤进行求值：\n",
    "\n",
    "1. 读取到4，将其压入栈中。\n",
    "2. 读取到5，将其压入栈中。\n",
    "3. 读取到6，将其压入栈中。\n",
    "4. 读取到*，从栈中弹出两个元素（6和5），执行乘法操作，得到30，然后将30压回栈中。\n",
    "5. 读取到+，从栈中弹出两个元素（30和4），执行加法操作，得到34，然后将34压回栈中。\n",
    "6. 表达式结束，栈顶元素34就是表达式的结果。\n",
    "\n",
    "以下是对应的Python代码：\n",
    "\n"
   ]
  },
  {
   "cell_type": "code",
   "execution_count": 3,
   "metadata": {},
   "outputs": [
    {
     "name": "stdout",
     "output_type": "stream",
     "text": [
      "34\n"
     ]
    }
   ],
   "source": [
    "def evaluate_postfix(expression):\n",
    "    stack = []\n",
    "    for char in expression:\n",
    "        if char.isdigit():\n",
    "            stack.append(int(char))\n",
    "        else:\n",
    "            right = stack.pop()\n",
    "            left = stack.pop()\n",
    "            if char == '+':\n",
    "                stack.append(left + right)\n",
    "            elif char == '*':\n",
    "                stack.append(left * right)\n",
    "    return stack[0]\n",
    "\n",
    "print(evaluate_postfix('456*+'))  # 输出：34"
   ]
  },
  {
   "cell_type": "markdown",
   "metadata": {},
   "source": [
    "对于减法和除法，我们需要注意的是操作数的顺序。在后缀表达式中，当我们遇到一个减法或除法操作符时，我们需要从栈中弹出两个元素，但是第二个弹出的元素是被减数或被除数，第一个弹出的元素是减数或除数。\n",
    "\n",
    "例如，对于后缀表达式 \"65-\" 和 \"65/\"，我们可以按照以下步骤进行求值：\n",
    "\n",
    "对于 \"65-\"：\n",
    "\n",
    "1. 读取到6，将其压入栈中。\n",
    "2. 读取到5，将其压入栈中。\n",
    "3. 读取到-，从栈中弹出两个元素（5和6），执行减法操作，得到1（因为6-5=1），然后将1压回栈中。\n",
    "4. 表达式结束，栈顶元素1就是表达式的结果。\n",
    "\n",
    "对于 \"65/\"：\n",
    "\n",
    "1. 读取到6，将其压入栈中。\n",
    "2. 读取到5，将其压入栈中。\n",
    "3. 读取到/，从栈中弹出两个元素（5和6），执行除法操作，得到1.2（因为6/5=1.2），然后将1.2压回栈中。\n",
    "4. 表达式结束，栈顶元素1.2就是表达式的结果。\n",
    "\n",
    "以下是对应的Python代码：\n",
    "\n"
   ]
  },
  {
   "cell_type": "code",
   "execution_count": 4,
   "metadata": {},
   "outputs": [
    {
     "name": "stdout",
     "output_type": "stream",
     "text": [
      "1\n",
      "1.2\n"
     ]
    }
   ],
   "source": [
    "def evaluate_postfix(expression):\n",
    "    stack = []\n",
    "    for char in expression:\n",
    "        if char.isdigit():\n",
    "            stack.append(int(char))\n",
    "        else:\n",
    "            right = stack.pop()\n",
    "            left = stack.pop()\n",
    "            if char == '+':\n",
    "                stack.append(left + right)\n",
    "            elif char == '-':\n",
    "                stack.append(left - right)\n",
    "            elif char == '*':\n",
    "                stack.append(left * right)\n",
    "            elif char == '/':\n",
    "                stack.append(left / right)\n",
    "    return stack[0]\n",
    "\n",
    "print(evaluate_postfix('65-'))  # 输出：1\n",
    "print(evaluate_postfix('65/'))  # 输出：1.2"
   ]
  },
  {
   "cell_type": "markdown",
   "metadata": {},
   "source": [
    "# 队列及其应用"
   ]
  },
  {
   "cell_type": "markdown",
   "metadata": {},
   "source": [
    "## 队列的概念特点"
   ]
  },
  {
   "cell_type": "markdown",
   "metadata": {},
   "source": [
    "队列（Queue）是一种特殊的线性表，特殊之处在于它只允许在表的前端（front）进行删除操作，而在表的后端（rear）进行插入操作。进行插入操作的端称为队尾，进行删除操作的端称为队头。队列中没有元素时，称为空队列。\n",
    "\n",
    "队列的特点：\n",
    "\n",
    "1. 先进先出（FIFO, First-In-First-Out）：队列是一种先进先出的（FIFO）的数据结构，即先存入队列的元素，先从队列中取出。后存入队列的元素，必须在先前的所有元素取出后才能取出，这就是队列的先进先出的特性。\n",
    "\n",
    "2. 队头删除，队尾添加：在一个队列中，新元素总是被添加到队列的尾部，删除元素总是在队列头部。只允许在队尾进行插入操作，在队头进行删除操作。\n",
    "\n",
    "3. 队列通常包含有两个操作：enqueue 和 dequeue。enqueue 操作在队尾插入一个元素，dequeue 操作删除队头元素。\n",
    "\n",
    "队列在计算机科学中被广泛使用，特别是在数据结构和算法中，如宽度优先搜索（BFS），缓存（Cache）等。"
   ]
  },
  {
   "cell_type": "markdown",
   "metadata": {},
   "source": [
    "## 队列实现"
   ]
  },
  {
   "cell_type": "code",
   "execution_count": 5,
   "metadata": {},
   "outputs": [
    {
     "name": "stdout",
     "output_type": "stream",
     "text": [
      "True\n",
      "2\n",
      "1\n",
      "1\n",
      "False\n"
     ]
    }
   ],
   "source": [
    "class quene:\n",
    "    def __init__(self):\n",
    "        self.items=[]  # 初始化一个空列表作为队列\n",
    "\n",
    "    def enquene(self,it):\n",
    "        self.items.append(it)  # 在队尾添加一个元素\n",
    "\n",
    "    def dequene(self):\n",
    "        if not self.is_empty():  # 如果队列不为空\n",
    "            return self.items.pop(0)  # 删除并返回队头元素\n",
    "        else:\n",
    "            raise IndexError('dequene from empty quene')  # 如果队列为空，抛出异常\n",
    "\n",
    "    def is_empty(self):\n",
    "        return self.items==[]  # 如果队列为空，返回True，否则返回False\n",
    "\n",
    "    def size(self):\n",
    "        return len(self.items)  # 返回队列中元素的数量\n",
    "\n",
    "q = quene()  # 创建一个新的队列\n",
    "print(q.is_empty())  # 输出：True，因为队列是空的\n",
    "\n",
    "q.enquene(1)  # 在队尾添加元素1\n",
    "q.enquene(2)  # 在队尾添加元素2\n",
    "print(q.size())  # 输出：2，因为队列中有两个元素\n",
    "\n",
    "print(q.dequene())  # 输出：1，因为1是队头元素\n",
    "print(q.size())  # 输出：1，因为队列中只剩下一个元素\n",
    "\n",
    "print(q.is_empty())  # 输出：False，因为队列不是空的\n",
    "#删除操作时间复杂度高"
   ]
  },
  {
   "cell_type": "markdown",
   "metadata": {},
   "source": [
    "## 另一种实现：双指针+循环队列"
   ]
  },
  {
   "cell_type": "markdown",
   "metadata": {},
   "source": [
    "### 双指针\n",
    "入队：队列尾指针rear+1，将元素放在rear位置：rear=rear+1;quene[rear]=item  \n",
    "出队：队列头指针front+1，删除front位置元素：front=front+1;item=quene[front]"
   ]
  },
  {
   "cell_type": "code",
   "execution_count": 6,
   "metadata": {},
   "outputs": [],
   "source": [
    "class Queue:\n",
    "    def __init__(self, maxSize=100):\n",
    "        self.maxSize = maxSize  # 队列的最大容量\n",
    "        self.queue = [0]*maxSize  # 初始化队列\n",
    "        self.rear = 0  # 队尾的位置\n",
    "        self.front = 0  # 队首的位置\n",
    "\n",
    "    def enqueue(self, item):\n",
    "        self.queue[self.rear] = item  # 在队尾添加元素\n",
    "        self.rear = (self.rear + 1) % self.maxSize  # 更新队尾的位置，%防止数组越界\n",
    "\n",
    "    def dequeue(self):\n",
    "        item = self.queue[self.front]  # 获取队首元素\n",
    "        self.front = (self.front + 1) % self.maxSize  # 更新队首的位置，%防止数组越界\n",
    "        return item  # 返回队首元素\n",
    "#无法判断队列空和满的情况"
   ]
  },
  {
   "cell_type": "markdown",
   "metadata": {},
   "source": [
    "### 循环队列\n",
    "一种常见的解决方案是保留一个元素的空间，使得队列满时队尾指针总是在队首指针的前一个位置。这样，当队首和队尾指针相等时，我们就可以确定队列为空。  \n",
    "队列为空：front=rear  \n",
    "队列为满：front=（rear+1）%MaxSize"
   ]
  },
  {
   "cell_type": "code",
   "execution_count": 7,
   "metadata": {},
   "outputs": [],
   "source": [
    "def is_empty(self):\n",
    "    return self.front == self.rear  # 如果队首和队尾重合，说明队列为空\n",
    "def is_full(self):\n",
    "    return (self.rear + 1) % self.maxSize == self.front  # 如果队尾的下一个位置是队首，说明队列满了\n",
    "def enquene(self,it):\n",
    "    if not self.is_full():  # 如果队列满了\n",
    "        self.quene[self.rear]=it  # 在队尾添加元素\n",
    "        self.rear=(self.rear+1)%self.maxSize\n",
    "    else: \n",
    "        raise IndexError('enquene from full quene')\n",
    "    "
   ]
  },
  {
   "cell_type": "markdown",
   "metadata": {},
   "source": [
    "如果队尾指针大于等于队首指针，那么队列的长度就是队尾指针减去队首指针。如果队尾指针小于队首指针，那么队列的长度就是队尾指针加上队列的最大长度（maxSize）再减去队首指针。  \n",
    "（rear-front+maxSize）%maxSize"
   ]
  },
  {
   "cell_type": "code",
   "execution_count": 8,
   "metadata": {},
   "outputs": [],
   "source": [
    "def QueueSize(self):\n",
    "    return (self.rear - self.front + self.maxSize) % self.maxSize"
   ]
  },
  {
   "cell_type": "markdown",
   "metadata": {},
   "source": [
    "## 双端队列"
   ]
  },
  {
   "cell_type": "markdown",
   "metadata": {},
   "source": [
    "双端队列（Deque，全称double-ended queue）是一种具有队列和栈的性质的数据结构。双端队列的特点如下：\n",
    "\n",
    "1. 两端添加和删除元素：双端队列允许在队列的两端进行插入和删除操作。你可以在队列的前端添加元素，也可以在后端添加元素。同样，你也可以从任何一端删除元素。\n",
    "\n",
    "2. 动态大小：双端队列的大小可以动态变化，也就是说，你可以在需要的时候添加更多的元素。\n",
    "\n",
    "3. 可以实现栈和队列：双端队列可以很容易地用来实现一个栈或者队列。你只需要在一端进行操作就可以了。\n",
    "\n",
    "4. 随机访问：双端队列支持随机访问，你可以通过索引来访问队列中的任何元素。\n",
    "\n",
    "在Python中，`collections` 模块提供了一个 `deque` 类，你可以使用它来创建一个双端队列。"
   ]
  },
  {
   "cell_type": "code",
   "execution_count": 9,
   "metadata": {},
   "outputs": [],
   "source": [
    "class Deque:\n",
    "    def __init__(self):\n",
    "        self.items=[]  # 初始化一个空列表作为双端队列的存储结构\n",
    "\n",
    "    def is_empty(self):\n",
    "        return self.items==[]  # 判断双端队列是否为空，如果为空返回True，否则返回False\n",
    "\n",
    "    def add_front(self,it):\n",
    "        self.items.insert(0,it)  # 在双端队列的前端添加一个元素\n",
    "\n",
    "    def add_rear(self,it):\n",
    "        self.items.append(it)  # 在双端队列的后端添加一个元素\n",
    "\n",
    "    def remove_front(self):\n",
    "        return self.items.pop(0)  # 移除并返回双端队列前端的元素\n",
    "\n",
    "    def remove_rear(self):\n",
    "        return self.items.pop()  # 移除并返回双端队列后端的元素\n",
    "\n",
    "    def size(self):\n",
    "        return len(self.items)  # 返回双端队列中元素的数量"
   ]
  },
  {
   "cell_type": "markdown",
   "metadata": {},
   "source": [
    "Python的`collections`模块提供了一个`deque`类，可以用来创建一个双端队列。以下是一些基本的使用方法：\n",
    "\n"
   ]
  },
  {
   "cell_type": "code",
   "execution_count": 10,
   "metadata": {},
   "outputs": [],
   "source": [
    "from collections import deque\n",
    "\n",
    "# 创建一个空的双端队列\n",
    "d = deque()\n",
    "d = deque([1, 2, 3])\n",
    "d = deque([1, 2, 3], 5)# 创建一个最大长度为5的双端队列,超出长度会删除最左边的元素\n",
    "\n",
    "# 在队列的右侧添加元素\n",
    "d.append('a')\n",
    "\n",
    "# 在队列的左侧添加元素\n",
    "d.appendleft('b')\n",
    "\n",
    "# 移除并返回队列右侧的元素\n",
    "rightmost = d.pop()\n",
    "\n",
    "# 移除并返回队列左侧的元素\n",
    "leftmost = d.popleft()\n",
    "\n",
    "# 获取队列中元素的数量\n",
    "size = len(d)\n",
    "\n",
    "# 检查队列是否为空\n",
    "is_empty = len(d) == 0"
   ]
  },
  {
   "cell_type": "markdown",
   "metadata": {},
   "source": [
    "\n",
    "\n",
    "`deque`类还提供了其他一些方法，如`rotate`、`extend`、`extendleft`等，可以用来旋转队列或在队列的一端添加多个元素。"
   ]
  }
 ],
 "metadata": {
  "kernelspec": {
   "display_name": "py3.7",
   "language": "python",
   "name": "python3"
  },
  "language_info": {
   "codemirror_mode": {
    "name": "ipython",
    "version": 3
   },
   "file_extension": ".py",
   "mimetype": "text/x-python",
   "name": "python",
   "nbconvert_exporter": "python",
   "pygments_lexer": "ipython3",
   "version": "3.11.5"
  }
 },
 "nbformat": 4,
 "nbformat_minor": 2
}
